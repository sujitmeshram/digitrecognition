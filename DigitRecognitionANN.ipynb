{
 "cells": [
  {
   "cell_type": "code",
   "execution_count": 62,
   "metadata": {},
   "outputs": [],
   "source": [
    "import tensorflow as tf\n",
    "from keras.datasets import mnist\n",
    "import numpy as np\n",
    "import matplotlib.pyplot as plt\n",
    "\n",
    "(x_train,y_train),(x_test,y_test) = mnist.load_data()"
   ]
  },
  {
   "cell_type": "code",
   "execution_count": 63,
   "metadata": {},
   "outputs": [
    {
     "name": "stdout",
     "output_type": "stream",
     "text": [
      "(60000, 28, 28)\n",
      "(60000,)\n",
      "(10000, 28, 28)\n",
      "(10000,)\n"
     ]
    }
   ],
   "source": [
    "x_train = x_train/255\n",
    "x_test = x_test/255\n",
    "print(x_train.shape)\n",
    "print(y_train.shape)\n",
    "print(x_test.shape)\n",
    "print(y_test.shape)"
   ]
  },
  {
   "cell_type": "code",
   "execution_count": 64,
   "metadata": {},
   "outputs": [
    {
     "name": "stdout",
     "output_type": "stream",
     "text": [
      "(784, 60000)\n",
      "(784, 10000)\n"
     ]
    }
   ],
   "source": [
    "x_train = x_train.reshape((x_train.shape[0],-1)).T\n",
    "x_test = x_test.reshape((x_test.shape[0],-1)).T\n",
    "print(x_train.shape)\n",
    "print(x_test.shape)"
   ]
  },
  {
   "cell_type": "code",
   "execution_count": 65,
   "metadata": {},
   "outputs": [],
   "source": [
    "m_train = y_train.shape[0]\n",
    "m_test = y_test.shape[0]\n",
    "\n",
    "ytr = np.zeros((10,m_train))\n",
    "yte = np.zeros((10,m_test))\n",
    "\n",
    "for i in range(m_train):\n",
    "    ytr[y_train[i],i]=1\n",
    "\n",
    "for i in range(m_test):\n",
    "    yte[y_test[i],i]=1\n",
    "    \n",
    "y_train = ytr\n",
    "y_test = yte"
   ]
  },
  {
   "cell_type": "code",
   "execution_count": 66,
   "metadata": {},
   "outputs": [],
   "source": [
    "def softmax(x):\n",
    "    x = np.exp(x)/np.sum(np.exp(x),axis=0)\n",
    "    return x"
   ]
  },
  {
   "cell_type": "code",
   "execution_count": 67,
   "metadata": {},
   "outputs": [],
   "source": [
    "def relu(x):\n",
    "    x = np.maximum(0,x)\n",
    "    return x"
   ]
  },
  {
   "cell_type": "code",
   "execution_count": 68,
   "metadata": {},
   "outputs": [],
   "source": [
    "def initialize(layer_dims):\n",
    "    parameters = {}\n",
    "    np.random.seed(2303)\n",
    "    l = len(layer_dims)\n",
    "    for i in range(1,l):\n",
    "        parameters['W'+str(i)] = np.random.randn(layer_dims[i],layer_dims[i-1])*0.01\n",
    "        parameters['b'+str(i)] = np.zeros((layer_dims[i],1))\n",
    "    return parameters"
   ]
  },
  {
   "cell_type": "code",
   "execution_count": 69,
   "metadata": {},
   "outputs": [],
   "source": [
    "def forward_propagation(X,parameters):\n",
    "    cache = {}\n",
    "    cache[\"A\"+str(0)] = X\n",
    "    L = len(parameters)//2\n",
    "    \n",
    "    for l in range(1,L):\n",
    "        cache[\"Z\"+str(l)] = np.dot(parameters[\"W\"+str(l)],cache[\"A\"+str(l-1)]) + parameters[\"b\"+str(l)];\n",
    "        cache[\"A\"+str(l)] = relu(cache[\"Z\"+str(l)])\n",
    "        \n",
    "    cache[\"Z\"+str(L)] = np.dot(parameters[\"W\"+str(L)],cache[\"A\"+str(L-1)]) + parameters[\"b\"+str(L)];\n",
    "    cache[\"A\"+str(L)] = softmax(cache[\"Z\"+str(L)])\n",
    "    return cache"
   ]
  },
  {
   "cell_type": "code",
   "execution_count": 70,
   "metadata": {},
   "outputs": [],
   "source": [
    "def relu_der(z):\n",
    "    x = 1*(z>0)\n",
    "    return x"
   ]
  },
  {
   "cell_type": "code",
   "execution_count": 71,
   "metadata": {},
   "outputs": [],
   "source": [
    "def compute_cost(AL,Y):\n",
    "    m = Y.shape[1]\n",
    "    cost = (-1/m)*np.sum(Y*np.log(AL))\n",
    "    cost = np.squeeze(cost)\n",
    "    return cost"
   ]
  },
  {
   "cell_type": "code",
   "execution_count": 72,
   "metadata": {},
   "outputs": [],
   "source": [
    "def back_propagation(y,cache,parameters):\n",
    "    l = len(parameters)//2\n",
    "    m = y.shape[1]\n",
    "    grads = {}\n",
    "    grads[\"dZ\"+str(l)] = cache[\"A\"+str(l)]-y\n",
    "    \n",
    "    for i in reversed(range(l)):\n",
    "            grads[\"dW\"+str(i+1)] = (1/m)*np.dot(grads[\"dZ\"+str(i+1)],cache[\"A\"+str(i)].T)\n",
    "            grads[\"db\"+str(i+1)] = (1/m)*np.sum(grads[\"dZ\"+str(i+1)],axis=1,keepdims=True)\n",
    "            if(i==0):\n",
    "                break\n",
    "            grads[\"dA\"+str(i)] = np.dot(parameters[\"W\"+str(i+1)].T,grads[\"dZ\"+str(i+1)])\n",
    "            grads[\"dZ\"+str(i)] = grads[\"dA\"+str(i)]*relu_der(cache[\"Z\"+str(i)])\n",
    "    \n",
    "    return grads"
   ]
  },
  {
   "cell_type": "code",
   "execution_count": 73,
   "metadata": {},
   "outputs": [],
   "source": [
    "def update_params(parameters,grads,alpha):\n",
    "    l = len(parameters)//2\n",
    "    for i in range(1,l+1):\n",
    "        parameters[\"W\"+str(i)] = parameters[\"W\"+str(i)] - alpha*grads[\"dW\"+str(i)]\n",
    "        parameters[\"b\"+str(i)] = parameters[\"b\"+str(i)] - alpha*grads[\"db\"+str(i)]\n",
    "    return parameters                                                              "
   ]
  },
  {
   "cell_type": "code",
   "execution_count": 83,
   "metadata": {},
   "outputs": [],
   "source": [
    "def model(x,y,layer_dims,alpha,num_iters):\n",
    "    \n",
    "    parameters = initialize(layer_dims)\n",
    "    l = len(parameters)//2\n",
    "    costs = []\n",
    "    for i in range(num_iters):\n",
    "        cache = forward_propagation(x,parameters)\n",
    "        \n",
    "        cost = compute_cost(cache[\"A\"+str(l)],y)\n",
    "        \n",
    "        grads = back_propagation(y,cache,parameters)\n",
    "        \n",
    "        parameters = update_params(parameters,grads,alpha)\n",
    "        \n",
    "        if(i%50 == 0):\n",
    "            print(\"cost after iteration \" + str(i) + \": \"+str(cost))\n",
    "            costs.append(cost)\n",
    "            \n",
    "    plt.plot(np.squeeze(costs))\n",
    "    plt.ylabel('cost')\n",
    "    plt.xlabel('iterations (per tens)')\n",
    "    plt.title(\"Learning rate =\" + str(alpha))\n",
    "    plt.show()\n",
    "    return parameters"
   ]
  },
  {
   "cell_type": "code",
   "execution_count": 85,
   "metadata": {},
   "outputs": [
    {
     "name": "stdout",
     "output_type": "stream",
     "text": [
      "cost after iteration 0: 2.3024995842968847\n",
      "cost after iteration 50: 2.226218606661201\n",
      "cost after iteration 100: 1.3082979645230166\n",
      "cost after iteration 150: 0.784864935114677\n",
      "cost after iteration 200: 0.5912836748043107\n",
      "cost after iteration 250: 0.49712824631817204\n",
      "cost after iteration 300: 0.4438567876221499\n",
      "cost after iteration 350: 0.41020275958614616\n",
      "cost after iteration 400: 0.38700261183924634\n",
      "cost after iteration 450: 0.36982967681807305\n",
      "cost after iteration 500: 0.35639652655556486\n",
      "cost after iteration 550: 0.3454142396494651\n",
      "cost after iteration 600: 0.3361308903601157\n",
      "cost after iteration 650: 0.328054392249505\n",
      "cost after iteration 700: 0.3209023669003121\n",
      "cost after iteration 750: 0.3144390159170673\n",
      "cost after iteration 800: 0.30854561416591186\n",
      "cost after iteration 850: 0.30311644584674113\n",
      "cost after iteration 900: 0.29808229472128206\n",
      "cost after iteration 950: 0.2933656004954972\n"
     ]
    },
    {
     "data": {
      "image/png": "[encoded data removed]",
      "text/plain": [
       "<Figure size 432x288 with 1 Axes>"
      ]
     },
     "metadata": {
      "needs_background": "light"
     },
     "output_type": "display_data"
    }
   ],
   "source": [
    "parameters = model(x_train,y_train,[28*28,25,10],0.1,1000)"
   ]
  },
  {
   "cell_type": "code",
   "execution_count": 86,
   "metadata": {},
   "outputs": [],
   "source": [
    "def predict(X, Y):\n",
    "    cache = forward_propagation(X, parameters)\n",
    "    l = len(parameters)//2\n",
    "    #use AL and Y to get the accuracy\n",
    "    AL = cache[\"A\"+str(l)]\n",
    "    AL = (AL == AL.max(axis=0))*1\n",
    "    m = AL.shape[1]\n",
    "    accuracy = (100/m)*np.sum(np.logical_and(AL,Y))\n",
    "    print(str(accuracy)+\"%\")\n",
    "\n",
    "    return accuracy"
   ]
  },
  {
   "cell_type": "code",
   "execution_count": 87,
   "metadata": {},
   "outputs": [
    {
     "name": "stdout",
     "output_type": "stream",
     "text": [
      "92.0%\n"
     ]
    },
    {
     "data": {
      "text/plain": [
       "92.0"
      ]
     },
     "execution_count": 87,
     "metadata": {},
     "output_type": "execute_result"
    }
   ],
   "source": [
    "predict(x_test, y_test)"
   ]
  },
  {
   "cell_type": "code",
   "execution_count": 88,
   "metadata": {},
   "outputs": [
    {
     "name": "stdout",
     "output_type": "stream",
     "text": [
      "91.83833333333334%\n"
     ]
    },
    {
     "data": {
      "text/plain": [
       "91.83833333333334"
      ]
     },
     "execution_count": 88,
     "metadata": {},
     "output_type": "execute_result"
    }
   ],
   "source": [
    "predict(x_train, y_train)"
   ]
  },
  {
   "cell_type": "code",
   "execution_count": null,
   "metadata": {},
   "outputs": [],
   "source": []
  }
 ],
 "metadata": {
  "kernelspec": {
   "display_name": "Python 3",
   "language": "python",
   "name": "python3"
  },
  "language_info": {
   "codemirror_mode": {
    "name": "ipython",
    "version": 3
   },
   "file_extension": ".py",
   "mimetype": "text/x-python",
   "name": "python",
   "nbconvert_exporter": "python",
   "pygments_lexer": "ipython3",
   "version": "3.5.0"
  }
 },
 "nbformat": 4,
 "nbformat_minor": 2
}
